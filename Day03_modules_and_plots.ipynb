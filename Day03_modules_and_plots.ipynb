{
  "nbformat": 4,
  "nbformat_minor": 0,
  "metadata": {
    "colab": {
      "name": "Untitled35.ipynb",
      "provenance": [],
      "include_colab_link": true
    },
    "kernelspec": {
      "name": "python3",
      "display_name": "Python 3"
    },
    "language_info": {
      "name": "python"
    }
  },
  "cells": [
    {
      "cell_type": "markdown",
      "metadata": {
        "id": "view-in-github",
        "colab_type": "text"
      },
      "source": [
        "<a href=\"https://colab.research.google.com/github/Sreemaee21/fmmlAssignments/blob/main/Day03_modules_and_plots.ipynb\" target=\"_parent\"><img src=\"https://colab.research.google.com/assets/colab-badge.svg\" alt=\"Open In Colab\"/></a>"
      ]
    },
    {
      "cell_type": "code",
      "execution_count": 1,
      "metadata": {
        "id": "By497kknhe1j"
      },
      "outputs": [],
      "source": [
        "vehicle_bucket = ['TN01', 'KA03', 'TS01', 'KA04', 'AP04', 'KL01', 'TS03']"
      ]
    },
    {
      "cell_type": "code",
      "source": [
        "KA_vehicle = []"
      ],
      "metadata": {
        "id": "zSfvRcBtiCZ6"
      },
      "execution_count": 2,
      "outputs": []
    },
    {
      "cell_type": "code",
      "source": [
        "for each_item in vehicle_bucket:\n",
        "  if 'KA' in each_item:\n",
        "    KA_vehicle.append(each_item)"
      ],
      "metadata": {
        "id": "IGeJWa1uiHeD"
      },
      "execution_count": 3,
      "outputs": []
    },
    {
      "cell_type": "code",
      "source": [
        "KA_vehicle"
      ],
      "metadata": {
        "colab": {
          "base_uri": "https://localhost:8080/"
        },
        "id": "2uiLwnbmiPrj",
        "outputId": "2da94999-2a45-4fbc-d5df-7a70a2ee3ece"
      },
      "execution_count": 4,
      "outputs": [
        {
          "output_type": "execute_result",
          "data": {
            "text/plain": [
              "['KA03', 'KA04']"
            ]
          },
          "metadata": {},
          "execution_count": 4
        }
      ]
    },
    {
      "cell_type": "code",
      "source": [
        "# list comprehension\n",
        "KA_list = [each_item for each_item in vehicle_bucket if 'KA' in each_item]"
      ],
      "metadata": {
        "id": "SCcGdga6iZKs"
      },
      "execution_count": 5,
      "outputs": []
    },
    {
      "cell_type": "code",
      "source": [
        "KA_list"
      ],
      "metadata": {
        "colab": {
          "base_uri": "https://localhost:8080/"
        },
        "id": "ggsjEZ7sim6C",
        "outputId": "4dab8664-eaea-4489-987c-44bd5bb10437"
      },
      "execution_count": 6,
      "outputs": [
        {
          "output_type": "execute_result",
          "data": {
            "text/plain": [
              "['KA03', 'KA04']"
            ]
          },
          "metadata": {},
          "execution_count": 6
        }
      ]
    },
    {
      "cell_type": "code",
      "source": [
        "import random"
      ],
      "metadata": {
        "id": "CnZmDgpBi2Lk"
      },
      "execution_count": 7,
      "outputs": []
    },
    {
      "cell_type": "code",
      "source": [
        "random.random()"
      ],
      "metadata": {
        "colab": {
          "base_uri": "https://localhost:8080/"
        },
        "id": "vV7Yc1m6jFDc",
        "outputId": "e69551b4-1442-47ee-8b2a-973ce3c60e90"
      },
      "execution_count": 8,
      "outputs": [
        {
          "output_type": "execute_result",
          "data": {
            "text/plain": [
              "0.15614641153292252"
            ]
          },
          "metadata": {},
          "execution_count": 8
        }
      ]
    },
    {
      "cell_type": "code",
      "source": [
        "my_random_list = [random.randint(18, 24) for i in range(20)]"
      ],
      "metadata": {
        "id": "yMm93d6Fjbk-"
      },
      "execution_count": 9,
      "outputs": []
    },
    {
      "cell_type": "code",
      "source": [
        "my_random_list"
      ],
      "metadata": {
        "colab": {
          "base_uri": "https://localhost:8080/"
        },
        "id": "LM1OKlKgjpJk",
        "outputId": "373b3d60-eafe-42c2-e8e5-5015637cbcfb"
      },
      "execution_count": 10,
      "outputs": [
        {
          "output_type": "execute_result",
          "data": {
            "text/plain": [
              "[22,\n",
              " 23,\n",
              " 21,\n",
              " 18,\n",
              " 19,\n",
              " 24,\n",
              " 22,\n",
              " 21,\n",
              " 22,\n",
              " 18,\n",
              " 18,\n",
              " 21,\n",
              " 18,\n",
              " 22,\n",
              " 19,\n",
              " 19,\n",
              " 18,\n",
              " 20,\n",
              " 24,\n",
              " 23]"
            ]
          },
          "metadata": {},
          "execution_count": 10
        }
      ]
    },
    {
      "cell_type": "code",
      "source": [
        "my_random_list"
      ],
      "metadata": {
        "colab": {
          "base_uri": "https://localhost:8080/"
        },
        "id": "PqudA6xMkMOb",
        "outputId": "535444ca-6d40-49ee-946d-d59098d8eafb"
      },
      "execution_count": 11,
      "outputs": [
        {
          "output_type": "execute_result",
          "data": {
            "text/plain": [
              "[22,\n",
              " 23,\n",
              " 21,\n",
              " 18,\n",
              " 19,\n",
              " 24,\n",
              " 22,\n",
              " 21,\n",
              " 22,\n",
              " 18,\n",
              " 18,\n",
              " 21,\n",
              " 18,\n",
              " 22,\n",
              " 19,\n",
              " 19,\n",
              " 18,\n",
              " 20,\n",
              " 24,\n",
              " 23]"
            ]
          },
          "metadata": {},
          "execution_count": 11
        }
      ]
    },
    {
      "cell_type": "code",
      "source": [
        "import matplotlib.pyplot as plt"
      ],
      "metadata": {
        "id": "nK0Frp6ikmXP"
      },
      "execution_count": 12,
      "outputs": []
    },
    {
      "cell_type": "code",
      "source": [
        "import math"
      ],
      "metadata": {
        "id": "Ge62dFrOldQj"
      },
      "execution_count": 13,
      "outputs": []
    },
    {
      "cell_type": "code",
      "source": [
        "math.sqrt(6)"
      ],
      "metadata": {
        "colab": {
          "base_uri": "https://localhost:8080/"
        },
        "id": "lZ0lBSXQlfwz",
        "outputId": "26057c3c-5d4a-4c84-c1c4-1aeb8d86e7fc"
      },
      "execution_count": 14,
      "outputs": [
        {
          "output_type": "execute_result",
          "data": {
            "text/plain": [
              "2.449489742783178"
            ]
          },
          "metadata": {},
          "execution_count": 14
        }
      ]
    },
    {
      "cell_type": "code",
      "source": [
        "my_sqrt_list = [math.sqrt(each_item) for each_item in my_random_list]"
      ],
      "metadata": {
        "id": "Zb0Dnj1ylXo-"
      },
      "execution_count": 15,
      "outputs": []
    },
    {
      "cell_type": "code",
      "source": [
        "plt.xlabel('X')\n",
        "plt.ylabel('Random(X)')\n",
        "plt.plot(my_random_list, label='random function');\n",
        "plt.plot(my_sqrt_list, label='square roots of random numbers');\n",
        "plt.legend();"
      ],
      "metadata": {
        "colab": {
          "base_uri": "https://localhost:8080/",
          "height": 279
        },
        "id": "6xq_qLQ_kwZS",
        "outputId": "3ed9e2dd-5dda-46ec-ed92-793c13bd7f20"
      },
      "execution_count": 16,
      "outputs": [
        {
          "output_type": "display_data",
          "data": {
            "text/plain": [
              "<Figure size 432x288 with 1 Axes>"
            ],
            "image/png": "[encoded data removed]"
          },
          "metadata": {
            "needs_background": "light"
          }
        }
      ]
    }
  ]
}