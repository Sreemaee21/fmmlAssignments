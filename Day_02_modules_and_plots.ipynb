{
  "nbformat": 4,
  "nbformat_minor": 0,
  "metadata": {
    "colab": {
      "name": "Untitled35.ipynb",
      "provenance": [],
      "include_colab_link": true
    },
    "kernelspec": {
      "name": "python3",
      "display_name": "Python 3"
    },
    "language_info": {
      "name": "python"
    }
  },
  "cells": [
    {
      "cell_type": "markdown",
      "metadata": {
        "id": "view-in-github",
        "colab_type": "text"
      },
      "source": [
        "<a href=\"https://colab.research.google.com/github/Sreemaee21/fmmlAssignments/blob/main/Day_02_modules_and_plots.ipynb\" target=\"_parent\"><img src=\"https://colab.research.google.com/assets/colab-badge.svg\" alt=\"Open In Colab\"/></a>"
      ]
    },
    {
      "cell_type": "code",
      "execution_count": 1,
      "metadata": {
        "id": "By497kknhe1j"
      },
      "outputs": [],
      "source": [
        "vehicle_bucket = ['TN01', 'KA03', 'TS01', 'KA04', 'AP04', 'KL01', 'TS03']"
      ]
    },
    {
      "cell_type": "code",
      "source": [
        "KA_vehicle = []"
      ],
      "metadata": {
        "id": "zSfvRcBtiCZ6"
      },
      "execution_count": 2,
      "outputs": []
    },
    {
      "cell_type": "code",
      "source": [
        "for each_item in vehicle_bucket:\n",
        "  if 'KA' in each_item:\n",
        "    KA_vehicle.append(each_item)"
      ],
      "metadata": {
        "id": "IGeJWa1uiHeD"
      },
      "execution_count": 3,
      "outputs": []
    },
    {
      "cell_type": "code",
      "source": [
        "KA_vehicle"
      ],
      "metadata": {
        "id": "2uiLwnbmiPrj",
        "outputId": "40931866-0063-4898-d593-70aeca00c8be",
        "colab": {
          "base_uri": "https://localhost:8080/"
        }
      },
      "execution_count": 4,
      "outputs": [
        {
          "output_type": "execute_result",
          "data": {
            "text/plain": [
              "['KA03', 'KA04']"
            ]
          },
          "metadata": {},
          "execution_count": 4
        }
      ]
    },
    {
      "cell_type": "code",
      "source": [
        "# list comprehension\n",
        "KA_list = [each_item for each_item in vehicle_bucket if 'KA' in each_item]"
      ],
      "metadata": {
        "id": "SCcGdga6iZKs"
      },
      "execution_count": 5,
      "outputs": []
    },
    {
      "cell_type": "code",
      "source": [
        "KA_list"
      ],
      "metadata": {
        "id": "ggsjEZ7sim6C"
      },
      "execution_count": null,
      "outputs": []
    },
    {
      "cell_type": "code",
      "source": [
        "import random"
      ],
      "metadata": {
        "id": "CnZmDgpBi2Lk"
      },
      "execution_count": 7,
      "outputs": []
    },
    {
      "cell_type": "code",
      "source": [
        "random.random()"
      ],
      "metadata": {
        "id": "vV7Yc1m6jFDc",
        "outputId": "ffc479ad-e1cf-4794-be68-6e87470eaa15",
        "colab": {
          "base_uri": "https://localhost:8080/"
        }
      },
      "execution_count": 8,
      "outputs": [
        {
          "output_type": "execute_result",
          "data": {
            "text/plain": [
              "0.3218895715676032"
            ]
          },
          "metadata": {},
          "execution_count": 8
        }
      ]
    },
    {
      "cell_type": "code",
      "source": [
        "my_random_list = [random.randint(18, 24) for i in range(20)]"
      ],
      "metadata": {
        "id": "yMm93d6Fjbk-"
      },
      "execution_count": 9,
      "outputs": []
    },
    {
      "cell_type": "code",
      "source": [
        "my_random_list"
      ],
      "metadata": {
        "id": "LM1OKlKgjpJk",
        "outputId": "f18691be-ed3a-45e1-ffb8-75c557475b04",
        "colab": {
          "base_uri": "https://localhost:8080/"
        }
      },
      "execution_count": 10,
      "outputs": [
        {
          "output_type": "execute_result",
          "data": {
            "text/plain": [
              "[22,\n",
              " 19,\n",
              " 20,\n",
              " 24,\n",
              " 18,\n",
              " 23,\n",
              " 20,\n",
              " 18,\n",
              " 23,\n",
              " 22,\n",
              " 20,\n",
              " 18,\n",
              " 21,\n",
              " 21,\n",
              " 20,\n",
              " 23,\n",
              " 21,\n",
              " 23,\n",
              " 18,\n",
              " 24]"
            ]
          },
          "metadata": {},
          "execution_count": 10
        }
      ]
    },
    {
      "cell_type": "code",
      "source": [
        "my_random_list"
      ],
      "metadata": {
        "id": "PqudA6xMkMOb",
        "outputId": "a32dcd1e-ca8d-4085-d890-91df32228fff",
        "colab": {
          "base_uri": "https://localhost:8080/"
        }
      },
      "execution_count": 11,
      "outputs": [
        {
          "output_type": "execute_result",
          "data": {
            "text/plain": [
              "[22,\n",
              " 19,\n",
              " 20,\n",
              " 24,\n",
              " 18,\n",
              " 23,\n",
              " 20,\n",
              " 18,\n",
              " 23,\n",
              " 22,\n",
              " 20,\n",
              " 18,\n",
              " 21,\n",
              " 21,\n",
              " 20,\n",
              " 23,\n",
              " 21,\n",
              " 23,\n",
              " 18,\n",
              " 24]"
            ]
          },
          "metadata": {},
          "execution_count": 11
        }
      ]
    },
    {
      "cell_type": "code",
      "source": [
        "import matplotlib.pyplot as plt"
      ],
      "metadata": {
        "id": "nK0Frp6ikmXP"
      },
      "execution_count": 12,
      "outputs": []
    },
    {
      "cell_type": "code",
      "source": [
        "import math"
      ],
      "metadata": {
        "id": "Ge62dFrOldQj"
      },
      "execution_count": 13,
      "outputs": []
    },
    {
      "cell_type": "code",
      "source": [
        "math.sqrt(6)"
      ],
      "metadata": {
        "id": "lZ0lBSXQlfwz",
        "outputId": "3f842aab-694e-4e2a-a5d8-bc098464d96c",
        "colab": {
          "base_uri": "https://localhost:8080/"
        }
      },
      "execution_count": 14,
      "outputs": [
        {
          "output_type": "execute_result",
          "data": {
            "text/plain": [
              "2.449489742783178"
            ]
          },
          "metadata": {},
          "execution_count": 14
        }
      ]
    },
    {
      "cell_type": "code",
      "source": [
        "my_sqrt_list = [math.sqrt(each_item) for each_item in my_random_list]"
      ],
      "metadata": {
        "id": "Zb0Dnj1ylXo-"
      },
      "execution_count": 15,
      "outputs": []
    },
    {
      "cell_type": "code",
      "source": [
        "plt.xlabel('X')\n",
        "plt.ylabel('Random(X)')\n",
        "plt.plot(my_random_list, label='random function');\n",
        "plt.plot(my_sqrt_list, label='square roots of random numbers');\n",
        "plt.legend();"
      ],
      "metadata": {
        "id": "6xq_qLQ_kwZS",
        "outputId": "6656625b-89cc-4c2f-dd5f-214f8bbfb75b",
        "colab": {
          "base_uri": "https://localhost:8080/",
          "height": 278
        }
      },
      "execution_count": 16,
      "outputs": [
        {
          "output_type": "display_data",
          "data": {
            "text/plain": [
              "<Figure size 432x288 with 1 Axes>"
            ],
            "image/png": "[encoded data removed]"
          },
          "metadata": {
            "needs_background": "light"
          }
        }
      ]
    }
  ]
}